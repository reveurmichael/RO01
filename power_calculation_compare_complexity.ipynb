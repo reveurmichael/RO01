{
 "cells": [
  {
   "cell_type": "code",
   "execution_count": 1,
   "id": "a01d49c3-5703-4599-9a35-b821f57a97a5",
   "metadata": {},
   "outputs": [
    {
     "name": "stdout",
     "output_type": "stream",
     "text": [
      "The calculation took  32.68024516105652  seconds\n"
     ]
    }
   ],
   "source": [
    "def power(base, N):\n",
    "    result = 1\n",
    "    for i in range(N):\n",
    "        result *= base\n",
    "    return result\n",
    "\n",
    "def run_1():\n",
    "    base_num = 3\n",
    "    exp_num = 3\n",
    "    result = power(base_num, exp_num)\n",
    "    print(f\"{base_num} raised to the power of {exp_num} is {result}\")\n",
    "\n",
    "def run_2():\n",
    "    import time\n",
    "    start = time.time()\n",
    "    result = power(1, 999999999)\n",
    "    end = time.time()\n",
    "    print(\"The calculation took \", end - start, \" seconds\")\n",
    "\n",
    "run_2()"
   ]
  },
  {
   "cell_type": "code",
   "execution_count": 2,
   "id": "3edcad1a-b7a4-4a28-a450-0ae8cc4bf275",
   "metadata": {},
   "outputs": [
    {
     "name": "stdout",
     "output_type": "stream",
     "text": [
      "The calculation took  1.9073486328125e-05  seconds\n"
     ]
    }
   ],
   "source": [
    "def power(base, N):\n",
    "    if N == 0:\n",
    "        return 1\n",
    "    elif N % 2 == 0:\n",
    "        # If N is even, reduce the problem size by halving the N\n",
    "        half_power = power(base, N // 2)\n",
    "        return half_power * half_power\n",
    "    else:\n",
    "        # If N is odd, reduce the problem size by subtracting one from N\n",
    "        reduced_power = power(base, N - 1)\n",
    "        return base * reduced_power\n",
    "\n",
    "def run_1():\n",
    "    base_num = 3\n",
    "    exp_num = 3\n",
    "    result = power(base_num, exp_num)\n",
    "    print(f\"{base_num} raised to the power of {exp_num} is {result}\")\n",
    "\n",
    "\n",
    "def run_2():\n",
    "    import time\n",
    "    start = time.time()\n",
    "    result = power(1, 999999999)\n",
    "    end = time.time()\n",
    "    print(\"The calculation took \", end - start, \" seconds\")\n",
    "\n",
    "\n",
    "run_2()\n"
   ]
  }
 ],
 "metadata": {
  "kernelspec": {
   "display_name": "Python 3 (ipykernel)",
   "language": "python",
   "name": "python3"
  },
  "language_info": {
   "codemirror_mode": {
    "name": "ipython",
    "version": 3
   },
   "file_extension": ".py",
   "mimetype": "text/x-python",
   "name": "python",
   "nbconvert_exporter": "python",
   "pygments_lexer": "ipython3",
   "version": "3.10.6"
  }
 },
 "nbformat": 4,
 "nbformat_minor": 5
}
